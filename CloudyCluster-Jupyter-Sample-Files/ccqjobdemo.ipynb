{
 "cells": [
  {
   "cell_type": "code",
   "execution_count": 11,
   "metadata": {
    "colab": {
     "base_uri": "https://localhost:8080/"
    },
    "id": "vt4_3QSrSIAx",
    "outputId": "4f26cb24-b635-4f99-9574-c4f85e502934"
   },
   "outputs": [],
   "source": [
    "# the first time you run in google colab or new instance in OOD after a timeout uncomment below and execute once to install webdavclient\n",
    "#!pip install webdavclient3\n",
    "#!pip install getpass4\n",
    "#!pip install pprint36"
   ]
  },
  {
   "cell_type": "code",
   "execution_count": 2,
   "metadata": {
    "id": "iqv7pccP44vq"
   },
   "outputs": [],
   "source": [
    "import pprint\n",
    "from ipywidgets import widgets\n",
    "import getpass\n",
    "\n",
    "import ccqclient\n",
    "import pprint\n",
    "import urllib\n",
    "from ipywidgets import widgets"
   ]
  },
  {
   "cell_type": "code",
   "execution_count": 3,
   "metadata": {
    "id": "7RdvbP3y9GVO"
   },
   "outputs": [
    {
     "name": "stdin",
     "output_type": "stream",
     "text": [
      "user rich\n"
     ]
    },
    {
     "name": "stdout",
     "output_type": "stream",
     "text": [
      "Password\n"
     ]
    },
    {
     "name": "stdin",
     "output_type": "stream",
     "text": [
      " ········\n"
     ]
    }
   ],
   "source": [
    "#login_instance_url='login1-........cloudycluster.net'\n",
    "login_instance_url='login-yakcapelinjadeite.cloudycluster.net'\n",
    "user_name = input ('user')\n",
    "#user_name = ''\n",
    "print ('Password')\n",
    "user_pass = getpass.getpass()\n",
    "#user_pass = ''\n",
    "client = ccqclient.CCQClient(login_instance_url, user_name, user_pass, ccqclient.CCQCloud.GCP, ccqclient.CCQScheduler.Slurm)"
   ]
  },
  {
   "cell_type": "code",
   "execution_count": 26,
   "metadata": {
    "colab": {
     "base_uri": "https://localhost:8080/"
    },
    "id": "slUAxP1P9wM7",
    "outputId": "5960b3a4-bd5a-43bb-b397-242529d73203"
   },
   "outputs": [],
   "source": [
    "# uncomment this section for ccqstat sample\n",
    "output = client.ccqstat()\n",
    "pprint.pprint (output)"
   ]
  },
  {
   "cell_type": "code",
   "execution_count": null,
   "metadata": {
    "id": "5uL117osEXPG"
   },
   "outputs": [],
   "source": [
    "#uncomment this section for ccqdel sample\n",
    "#jobnum = '123456'\n",
    "#output = client.ccqdel(jobnum)\n"
   ]
  },
  {
   "cell_type": "code",
   "execution_count": 23,
   "metadata": {
    "colab": {
     "base_uri": "https://localhost:8080/"
    },
    "id": "a4Se-DbyAz1a",
    "outputId": "677a99c9-d5b6-49aa-995a-a79813f358c1"
   },
   "outputs": []
    }
   ],
   "source": [
    "#uncomment this section for ccqsub sample\n",
    "jobname = 'curly2.sh'\n",
    "jobpath = '/mnt/orangefs/samplejobs/mpi/GCP/'\n",
    "numnodes = 1\n",
    "numtasks = 1\n",
    "np = numnodes * numtasks\n",
    "# make sure you have copied the sample jobs: cp -R /software/samplejobs/ /mnt/orangefs/samplejobs/  \n",
    "# (or whatever you called the shared filesystem other than the default)\n",
    "jobscript = ''.join((\"#!/bin/bash\\n\" ,\n",
    "                      \"# Uncomment this section for use with Slurm HPC Scheduler\\n\", \n",
    "                      \"#SBATCH -N \", str(numnodes), \"\\n\",\n",
    "                      \"#SBATCH --ntasks-per-node=\", str(numtasks), \"\\n\",\n",
    "                      \"export SHARED_FS_NAME=/mnt/orangefs\\n\",\n",
    "                      \"cd $SHARED_FS_NAME/rich\\n\",\n",
    "                      \"curl -o earthquakes1.geojson https://docs.mapbox.com/mapbox-gl-js/assets/significant-earthquakes-2015.geojson\"))\n",
    "\n",
    "print(jobscript)\n",
    "\n",
    "uoutput = client.upload(jobpath+jobname ,jobscript)\n",
    "output = client.ccqsub(numnodes, numtasks, jobpath, jobname, jobscript)\n"
   ]
  },
  {
   "cell_type": "code",
   "execution_count": 25,
   "metadata": {
    "colab": {
     "base_uri": "https://localhost:8080/"
    },
    "id": "yQK1p2mGItTb",
    "outputId": "a8da722c-46e7-438e-d182-6cbb539dccca"
   },
   "outputs": []
    }
   ],
   "source": [
    "#uncomment this section for ccqsub sample\n",
    "jobname = 'curly3.sh'\n",
    "jobpath = '/mnt/orangefs/samplejobs/mpi/GCP/'\n",
    "numnodes = 1\n",
    "numtasks = 1\n",
    "np = numnodes * numtasks\n",
    "# make sure you have copied the sample jobs: cp -R /software/samplejobs/ /mnt/orangefs/samplejobs/  \n",
    "# (or whatever you called the shared filesystem other than the default)\n",
    "jobscript = ''.join((\"#!/bin/bash\\n\",\n",
    "                      \"#Uncomment this section for use with Slurm HPC Scheduler\\n\", \n",
    "                      \"#SBATCH -N \", str(numnodes), \"\\n\",\n",
    "                      \"#SBATCH --ntasks-per-node=\", str(numtasks), \"\\n\",\n",
    "                      \"export SHARED_FS_NAME=/mnt/orangefs\\n\",\n",
    "                      \"cd $SHARED_FS_NAME/rich\\n\",\n",
    "                      \"curl -o earthquakeApps.json https://earthquake.usgs.gov/fdsnws/event/1/application.json\"))\n",
    "\n",
    "print(jobscript)\n",
    "\n",
    "uoutput = client.upload(jobpath+jobname ,jobscript)\n",
    "output = client.ccqsub(numnodes, numtasks, jobpath, jobname, jobscript)"
   ]
  },
  {
   "cell_type": "code",
   "execution_count": null,
   "metadata": {},
   "outputs": [],
   "source": []
  }
 ],
 "metadata": {
  "colab": {
   "collapsed_sections": [],
   "name": "ccqjobsample.ipynb",
   "provenance": []
  },
  "kernelspec": {
   "display_name": "Python 3",
   "language": "python",
   "name": "python3"
  },
  "language_info": {
   "codemirror_mode": {
    "name": "ipython",
    "version": 3
   },
   "file_extension": ".py",
   "mimetype": "text/x-python",
   "name": "python",
   "nbconvert_exporter": "python",
   "pygments_lexer": "ipython3",
   "version": "3.6.8"
  }
 },
 "nbformat": 4,
 "nbformat_minor": 4
}
